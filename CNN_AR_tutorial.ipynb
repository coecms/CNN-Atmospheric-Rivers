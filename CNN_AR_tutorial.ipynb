{
 "cells": [
  {
   "cell_type": "markdown",
   "metadata": {
    "jp-MarkdownHeadingCollapsed": true
   },
   "source": [
    "### Important note before we start:\n",
    "\n",
    "- If you have access to Gadi and hh5 then you can run this notebook using one of the analysis conda environments. \n",
    "\n",
    "- Alternatively you can run this notebook using Google Colab, you just need to run the cell below:"
   ]
  },
  {
   "cell_type": "code",
   "execution_count": null,
   "metadata": {
    "colab": {
     "base_uri": "https://localhost:8080/"
    },
    "id": "9wwHTmkz6zpF",
    "outputId": "0116e92b-2920-48e6-f546-50ada05648d9"
   },
   "outputs": [
    {
     "name": "stdout",
     "output_type": "stream",
     "text": [
      "Mounted at /content/drive\n"
     ]
    }
   ],
   "source": [
    "# Only use this on Google Colab\n",
    "from google.colab import drive\n",
    "drive.mount('/content/drive')"
   ]
  },
  {
   "cell_type": "markdown",
   "metadata": {
    "id": "CB2dhNeum3X7"
   },
   "source": [
    "# Overview\n",
    "\n",
    "In this tutorial, we will use the **Atmospheric Rivers dataset** described in xxxx to train a Convolutional Neural Network (CNN) that can identify whether a map contains an atmospheric river or not. The script is written in Python and will perform three key tasks:\n",
    "\n",
    "- **Load training data**: the training data consists of chips of Integrated Vapor Transport (IVT) maps and their corresponding labels ('Atmospheric River', 'Ambiguous', or empty if these two shapes are not present. We be begin by loading the data, and preparing it for input into our neural network.\n",
    "- **Train a CNN**: using the TensorFlow and Keras libraries, we'll train a CNN to classify the IVT chips (images) into one of two predifined classes. Here, Class 1 is assigned to images containing an atmospheric river, and Class 0 is assigned to images not containing an atmospheric river or containing an ambiguous shape.\n",
    "- **Evaluate model performance**: after training, we'll evaluate the model on data that was not used during training."
   ]
  },
  {
   "cell_type": "markdown",
   "metadata": {},
   "source": [
    "# Data\n",
    "\n",
    "The data can be downloaded from https://doi.org/10.5281/zenodo.12177339\n",
    "\n",
    "- **MAP_FILE_PATH**: Path to a text file containing the labels of IVT images.\n",
    "- **IMAGES_PATH**: The directory containing the IVT images.\n",
    "\n",
    "Note: Replace ```<<your Directory>>``` with the directory the data was saved to. If you are using Google Colab then replace ```<<your Directory>>``` with ```/content/drive/MyDrive```."
   ]
  },
  {
   "cell_type": "code",
   "execution_count": null,
   "metadata": {},
   "outputs": [],
   "source": [
    "# The Atmospheric Rivers dataset can be accessed through these links\n",
    "MAP_FILE_PATH = \"<<your Directory>>/Training_Testing_Tiles/RCNN_Masks_All_Tiles (no 3-10-15)/map.txt\"\n",
    "IMAGES_PATH = \"<<your Directory>>/Training_Testing_Tiles/RCNN_Masks_All_Tiles (no 3-10-15)/images/\" "
   ]
  },
  {
   "cell_type": "markdown",
   "metadata": {
    "id": "yO30bDyXm3X9"
   },
   "source": [
    "# Libraries\n",
    "\n",
    "Here's a list of libraries required for this task:\n",
    "\n",
    "- **re**: provides tools to handle regular expressions. It is used here to parse text files and extract the path and label of each image (IVT map chips)\n",
    "- **matplotlib.pyplot**: provides plotting tools.\n",
    "- **numpy**: used to store the data in arrays.\n",
    "- **torchvision.models**: this module provides access to pre-trained models; however, in this tutorial, we'll use it to design a custom CNN model tailored specifically to our data.\n",
    "- **tensorflow.keras.preprocessing.image**: provides tools to load the IVT map data and convert it into arrays.\n",
    "- **tensorflow.keras**: a user-friendly API for building and training machine learning models. We use tools from this API to define the architecture of the CNN model and its training components.\n",
    "- **sklearn.model_selection**: used to split the **Atmospheric Rivers dataset** into training set, validation set and test set.\n",
    "- **sklearn.metrics**: provides performance metrics to evaluate the CNN model.\n",
    "- **sklearn.utils.class_weight**: provides tools to help train models on datasets with imbalanced classes.\n"
   ]
  },
  {
   "cell_type": "code",
   "execution_count": null,
   "metadata": {
    "id": "ZduBmwUym3X-"
   },
   "outputs": [],
   "source": [
    "# %% Libraries\n",
    "import re\n",
    "import matplotlib.pyplot as plt\n",
    "import numpy as np\n",
    "import torchvision.models as models\n",
    "from tensorflow.keras import layers, models\n",
    "from tensorflow.keras.preprocessing.image import img_to_array, load_img\n",
    "from sklearn.model_selection import train_test_split\n",
    "from sklearn.metrics import confusion_matrix, accuracy_score, balanced_accuracy_score, confusion_matrix\n",
    "from sklearn.utils.class_weight import compute_class_weight\n"
   ]
  },
  {
   "cell_type": "markdown",
   "metadata": {
    "id": "7-8_6qHUL1Qj"
   },
   "source": [
    "These additional libraries and script are needed to ensure reproducibility of the results\n"
   ]
  },
  {
   "cell_type": "code",
   "execution_count": 3,
   "metadata": {
    "id": "CI4Do5cHLDsJ"
   },
   "outputs": [],
   "source": [
    "import random\n",
    "from tensorflow.random import set_seed\n",
    "import os\n",
    "# Set seeds for reproducibility\n",
    "def set_seed_all(seed=42):\n",
    "    # Set the seed for numpy's random number generator\n",
    "    np.random.seed(seed)\n",
    "    # Set the seed for TensorFlow's random number generator\n",
    "    set_seed(seed)\n",
    "    # Set the seed for Python hash-based operations\n",
    "    os.environ['PYTHONHASHSEED'] = str(seed)"
   ]
  },
  {
   "cell_type": "markdown",
   "metadata": {
    "id": "xKxjLP3Xm3X_"
   },
   "source": [
    "### Constants\n",
    "\n",
    "- **IMAGE_HEIGHT, IMAGE_WIDTH, CHANNELS**: The dimensions of the IVT map chips or 'images'. Here, each image contains a single channel containing the IVT values on a given day. This is unlike RGB images, which contain 3 channels one for each colour."
   ]
  },
  {
   "cell_type": "code",
   "execution_count": 4,
   "metadata": {
    "id": "bhq6wVT7m3X_"
   },
   "outputs": [],
   "source": [
    "\n",
    "# %% Constant\n",
    "IMAGE_HEIGHT = 40\n",
    "IMAGE_WIDTH = 32 # The original width of the image is 20 pixels, which is too small, so it will be resized to 32 pixels.\n",
    "CHANNELS = 1"
   ]
  },
  {
   "cell_type": "markdown",
   "metadata": {
    "id": "LfDynpIYm3YA"
   },
   "source": [
    "# Loading the Atmospheric Rivers dataset\n",
    "\n",
    "We'll use an ImageDatasetLoader class to load the IVT images and their class labels, and store them in numpy arrays.\n",
    "The dataset is then split into training, validation, and test sets using train_test_split. This separation helps in training the model on one subset of the data (training set), tuning the model's hyperparameters on another (validation set), and finally evaluating its performance on unseen data (test set)."
   ]
  },
  {
   "cell_type": "code",
   "execution_count": 5,
   "metadata": {
    "id": "wzjKwGM4m3YA"
   },
   "outputs": [],
   "source": [
    "# Define a class to load all the IVT images in the appropriate format.\n",
    "class ImageDatasetLoader:\n",
    "    # Initialize the class with paths and target size\n",
    "    def __init__(\n",
    "        self, map_file_path, images_path, target_size=(IMAGE_HEIGHT, IMAGE_WIDTH)\n",
    "    ):\n",
    "        self.map_file_path = map_file_path\n",
    "        self.images_path = images_path\n",
    "        self.target_size = target_size\n",
    "\n",
    "    # Load the training data\n",
    "    def load_data(self):\n",
    "        self._read_map_file()  # Read the text file that contains paths to IVT images and their class labels\n",
    "        self._process_file_paths()  # Extract the paths of the images\n",
    "        self.images = self._load_and_preprocess_images()  # Load and preprocess the images\n",
    "        self.labels = self._extract_labels()  # Extract the labels\n",
    "        return self.images, self.labels  # Return images and labels\n",
    "\n",
    "    # Read the text file (map.txt) which contains paths to IVT images and their class labels\n",
    "    def _read_map_file(self):\n",
    "        try:\n",
    "            with open(self.map_file_path, \"r\") as file:  # Open the map.txt file\n",
    "                lines = file.readlines()  # Read the lines\n",
    "            self.data = [self._process_line(line) for line in lines]  # Process each line\n",
    "            # Filter out none entries\n",
    "            self.data = [line for line in self.data if line is not None]\n",
    "        except Exception as e:  # Handle exceptions\n",
    "            raise Exception(f\"Error reading file: {e}\")\n",
    "\n",
    "    # Process each line in the map file. Each line corresponds to a single image file.\n",
    "    def _process_line(self, line):\n",
    "        parts = re.split(r\"\\s+\", line.strip(), maxsplit=1)  # Split the line into two parts, the first part contains the path and the second one contains the label\n",
    "        if len(parts) == 1 or not parts[1]:  # If the second part is empty, this indicates that there is no atmospheric river or ambiguous shape present\n",
    "            parts.append(0)  # Append 0, the class in this case should be '0'\n",
    "        elif \"Ambiguous\" in parts[1]:  # If the line contains \"Ambiguous\", exclude the image\n",
    "            return None\n",
    "        elif \"Atmospheric\" in parts[1]:  # If the line contains \"Atmospheric\"\n",
    "            parts[1] = 1  # The class is set to 1\n",
    "        else:  # For other cases\n",
    "            parts[1] = -1\n",
    "            print(f\"Unexpected string format: {parts}\")  # Print a warning message\n",
    "        return parts  # Return the labels of all the images\n",
    "\n",
    "    # Update the file paths in self.data to point to the actual location of the images\n",
    "    def _process_file_paths(self):\n",
    "        self.data = np.array(self.data, dtype=object)\n",
    "        # Replace the occurence of the substring \"images\\\\\" in each path with the value stored in 'self.images_path'\n",
    "        self.data[:, 0] = [\n",
    "            path.replace(\"images\\\\\", self.images_path) for path in self.data[:, 0]\n",
    "        ]\n",
    "\n",
    "    # Load the images in a numpy array\n",
    "    def _load_and_preprocess_images(self):\n",
    "        images = [self._load_and_preprocess_image(path) for path in self.data[:, 0]]\n",
    "        return np.array(images)  # Return the images as a numpy array\n",
    "\n",
    "    # Load and preprocess an image\n",
    "    def _load_and_preprocess_image(self, file_path):\n",
    "        # Load each image from the given file path as a grayscale image.\n",
    "        # The target_size=self.target_size parameter can be omitted if you do not want to change the size of the images.\n",
    "        img = load_img(file_path, color_mode=\"grayscale\", target_size=self.target_size)\n",
    "        img_array = img_to_array(img) / 255.0  # Convert the image to an array and normalize it. Recall that a grayscale image has a value range between 0 and 255.\n",
    "        return img_array  # Return the image data as an array\n",
    "\n",
    "    # Extract the labels\n",
    "    def _extract_labels(self):\n",
    "        labels = self.data[:, 1].astype(int)\n",
    "        return np.array(labels, dtype=\"int\")  # Return the labels in a numpy array\n"
   ]
  },
  {
   "cell_type": "code",
   "execution_count": 7,
   "metadata": {
    "colab": {
     "base_uri": "https://localhost:8080/"
    },
    "id": "N7tfVzEIm3YA",
    "outputId": "74c75748-2805-435d-ec8d-31335c9e2757"
   },
   "outputs": [
    {
     "name": "stdout",
     "output_type": "stream",
     "text": [
      "[1846  452]\n"
     ]
    }
   ],
   "source": [
    "set_seed_all(42) # To ensure reproducibility of the results\n",
    "\n",
    "# Load and split dataset\n",
    "loader = ImageDatasetLoader(MAP_FILE_PATH, IMAGES_PATH)\n",
    "images, labels = loader.load_data()\n",
    "\n",
    "# Count the number of images in each class, where '1' indicates the presence of an atmospheric river in the image, and '0' indicates its absence\n",
    "_, counts = np.unique(labels, return_counts=True)\n",
    "print(counts)\n",
    "\n",
    "# First, split the data into a 'training' set and a 'validation + test' set\n",
    "X_train, X_temp, y_train, y_temp = train_test_split(\n",
    "    images, labels, test_size=0.3, stratify=labels #, random_state=42\n",
    ") # X_train and y_train contain the feature images and labels of the training dataset, respectively.\n",
    "\n",
    "# Then split the 'validation + test' set (i.e., X_temp, y_temp) into two separate sets: 'validation' and 'test'\n",
    "X_val, X_test, y_val, y_test = train_test_split(\n",
    "    X_temp, y_temp, test_size=0.5, stratify=y_temp #, random_state=42\n",
    ")"
   ]
  },
  {
   "cell_type": "markdown",
   "metadata": {
    "id": "T0WtPiN7m3YB"
   },
   "source": [
    "# Model Training\n",
    "\n",
    "Although this tutorial does not explicitely show it, we first experimented with several different architectures and hyperparameters. We then chose the architecture and configuration that yield the best results on the validation set.   \n",
    "\n",
    "## Architecture\n",
    "\n",
    "Our CNN is built from these layers:\n",
    "\n",
    "- **Conv2D Layer (64 filters, 2x2 kernel)**: This is the first convolutional layer. It has 32 filters, each with a 2x2 kernel size. The role of the convolutional layer is to detect features such as edges, colors, and textures in the input images. The relu (rectified linear unit) activation function is used here to introduce non-linearity to the model, helping it learn more complex patterns.\n",
    "- **MaxPooling2D Layer (2x2 pool size)**: This pooling layer reduces the spatial dimensions (height and width) of the input volume. It does this by taking the maximum value over a 2x2 pooling window. Pooling helps make the detection of features somewhat invariant to scale and orientation changes and reduces the computational load.\n",
    "\n",
    "- **Conv2D Layer (64 filters, 3x3 kernel)**: This is the second convolutional layer. It has 64 filters, each with a 3x3 kernel size. This layer can detect more complex features built from the simpler features identified in the previous layers.\n",
    "- **MaxPooling2D Layer (2x2 pool size)**: This layer further reduces the spatial dimensions of the input volume.\n",
    "\n",
    "- **Flatten Layer**: This layer flattens the 3D output of the previous convolutional and pooling layers into a 1D array. It's necessary because the following dense (fully connected) layers require 1D input.\n",
    "- **Dense Layer (64 units)**: A fully connected layer that takes all the output from the previous layer and connects them to every single neuron in this layer.\n",
    "- **Dense Layer (1 unit)**: The final layer in the network outputs a single neuron with a sigmoid activation function, which is appropriate for binary classification. This function squashes the output between 0 and 1, which is useful for predicting probabilities in binary outcomes, which is here the presence or absence of an atmospheric river in an image.\n",
    "\n",
    "## Compilation\n",
    "\n",
    "This step involves configuring the model for training by specifying its hyperparameters:\n",
    "\n",
    "- **Optimizer**: adam, an optimisation algorithm commonly used in image processing tasks (e.g. image classification).\n",
    "- **Loss function**: binary_crossentropy, which is suitable for binary classification problems.\n",
    "- **Metrics**: accuracy.\n"
   ]
  },
  {
   "cell_type": "code",
   "execution_count": 36,
   "metadata": {
    "colab": {
     "base_uri": "https://localhost:8080/"
    },
    "id": "iK3kUJpMm3YC",
    "outputId": "f27bff03-72c4-4839-e992-144830084f8f"
   },
   "outputs": [
    {
     "name": "stdout",
     "output_type": "stream",
     "text": [
      "Epoch 1/20\n",
      "51/51 [==============================] - 7s 110ms/step - loss: 0.6634 - accuracy: 0.4602 - val_loss: 0.7665 - val_accuracy: 0.4174\n",
      "Epoch 2/20\n",
      "51/51 [==============================] - 3s 69ms/step - loss: 0.6359 - accuracy: 0.5292 - val_loss: 0.6316 - val_accuracy: 0.4348\n",
      "Epoch 3/20\n",
      "51/51 [==============================] - 3s 66ms/step - loss: 0.6219 - accuracy: 0.4409 - val_loss: 0.6644 - val_accuracy: 0.4116\n",
      "Epoch 4/20\n",
      "51/51 [==============================] - 4s 79ms/step - loss: 0.6197 - accuracy: 0.4988 - val_loss: 0.6685 - val_accuracy: 0.3913\n",
      "Epoch 5/20\n",
      "51/51 [==============================] - 5s 99ms/step - loss: 0.6086 - accuracy: 0.4465 - val_loss: 0.7030 - val_accuracy: 0.4145\n",
      "Epoch 6/20\n",
      "51/51 [==============================] - 3s 66ms/step - loss: 0.6216 - accuracy: 0.4832 - val_loss: 0.6143 - val_accuracy: 0.4609\n",
      "Epoch 7/20\n",
      "51/51 [==============================] - 3s 67ms/step - loss: 0.6080 - accuracy: 0.5330 - val_loss: 0.5743 - val_accuracy: 0.7391\n",
      "Epoch 8/20\n",
      "51/51 [==============================] - 4s 87ms/step - loss: 0.5925 - accuracy: 0.5529 - val_loss: 0.6808 - val_accuracy: 0.4493\n",
      "Epoch 9/20\n",
      "51/51 [==============================] - 5s 92ms/step - loss: 0.5822 - accuracy: 0.5740 - val_loss: 0.5841 - val_accuracy: 0.6232\n",
      "Epoch 10/20\n",
      "51/51 [==============================] - 4s 69ms/step - loss: 0.5746 - accuracy: 0.6511 - val_loss: 0.6018 - val_accuracy: 0.5855\n",
      "Epoch 11/20\n",
      "51/51 [==============================] - 3s 69ms/step - loss: 0.5503 - accuracy: 0.6561 - val_loss: 0.5619 - val_accuracy: 0.6435\n",
      "Epoch 12/20\n",
      "51/51 [==============================] - 5s 90ms/step - loss: 0.5269 - accuracy: 0.6822 - val_loss: 0.7092 - val_accuracy: 0.5101\n",
      "Epoch 13/20\n",
      "51/51 [==============================] - 4s 82ms/step - loss: 0.5067 - accuracy: 0.7388 - val_loss: 0.6929 - val_accuracy: 0.5623\n",
      "Epoch 14/20\n",
      "51/51 [==============================] - 3s 68ms/step - loss: 0.4981 - accuracy: 0.7065 - val_loss: 0.5485 - val_accuracy: 0.6609\n",
      "Epoch 15/20\n",
      "51/51 [==============================] - 3s 68ms/step - loss: 0.4428 - accuracy: 0.7724 - val_loss: 0.4993 - val_accuracy: 0.7304\n",
      "Epoch 16/20\n",
      "51/51 [==============================] - 5s 106ms/step - loss: 0.3989 - accuracy: 0.8097 - val_loss: 0.5102 - val_accuracy: 0.7159\n",
      "Epoch 17/20\n",
      "51/51 [==============================] - 4s 69ms/step - loss: 0.3633 - accuracy: 0.8221 - val_loss: 0.5832 - val_accuracy: 0.7101\n",
      "Epoch 18/20\n",
      "51/51 [==============================] - 4s 70ms/step - loss: 0.3246 - accuracy: 0.8420 - val_loss: 0.5101 - val_accuracy: 0.7304\n",
      "Epoch 19/20\n",
      "51/51 [==============================] - 4s 70ms/step - loss: 0.3084 - accuracy: 0.8551 - val_loss: 0.6713 - val_accuracy: 0.6667\n",
      "Epoch 20/20\n",
      "51/51 [==============================] - 6s 109ms/step - loss: 0.2805 - accuracy: 0.8750 - val_loss: 0.5373 - val_accuracy: 0.7130\n"
     ]
    }
   ],
   "source": [
    "# To ensure reproducibility of the results\n",
    "set_seed_all(42)\n",
    "\n",
    "# Define the architecture of the model\n",
    "model = models.Sequential(\n",
    "    [\n",
    "        # First convolutional layer with 64 filters and 2x2 kernel size\n",
    "        layers.Conv2D( 64, (2, 2), activation=\"relu\",\n",
    "            input_shape=(IMAGE_HEIGHT, IMAGE_WIDTH, CHANNELS),  # Input shape\n",
    "        ),\n",
    "        # First max pooling layer with 2x2 pool size\n",
    "        layers.MaxPooling2D((2, 2)),\n",
    "\n",
    "        # Second convolutional layer with 64 filters and 3x3 kernel size\n",
    "        layers.Conv2D(64, (3, 3), activation=\"relu\"),\n",
    "        # Second max pooling layer with 2x2 pool size\n",
    "        layers.MaxPooling2D((2, 2)),\n",
    "\n",
    "        # Convert the 3D feature maps to 1D feature vectors\n",
    "        layers.Flatten(),\n",
    "        # Fully connected layer with 64 neurons\n",
    "        layers.Dense(64, activation=\"relu\"),\n",
    "        # Output layer with 1 unit and sigmoid activation function for binary classification\n",
    "        layers.Dense(1, activation=\"sigmoid\"),\n",
    "    ]\n",
    ")\n",
    "\n",
    "# Compile the model with Adam optimizer, binary crossentropy loss function, and accuracy metric\n",
    "model.compile(optimizer=\"adam\", loss=\"binary_crossentropy\", metrics=[\"accuracy\"])\n",
    "\n",
    "# Compute class weights. Useful for training on datasets with imbalanced classes. Here, \"Atmospheric River\", i.e. class 1 is underrepresented in the dataset.\n",
    "classes = np.unique(y_train)  # Get unique classes\n",
    "weights = compute_class_weight(class_weight=\"balanced\", classes=classes, y=y_train)  # Compute class weights\n",
    "class_weight_dict = {classes[i]: weights[i] for i in range(len(classes))}  # Create a dictionary that maps each class to its weight.\n",
    "\n",
    "# Fit the model to the training data\n",
    "# This scripts returns a History object, which contains information about the training process, including the loss and accuracy values for each epoch, and the validation metric.\n",
    "cnn_AR = model.fit(\n",
    "    X_train,  # Training features\n",
    "    y_train,  # Training labels\n",
    "    epochs=20,  # Number of epochs. An epoch is a single pass through the entire training dataset.\n",
    "    validation_data=(X_val, y_val),  # Validation data\n",
    "    class_weight=class_weight_dict,  # Class weights.\n",
    ")"
   ]
  },
  {
   "cell_type": "markdown",
   "metadata": {
    "id": "uiMQ3xfDm3YC"
   },
   "source": [
    "# Model Evaluation\n",
    "\n",
    "After training the CNN, the next important step is to evaluate its performance. We'll do this in three ways:\n",
    "\n",
    "1.   Plot the evolution of accuracy relative to the number of epochs for both the validation set and training set.\n",
    "2.   Visualise the model's performance on the test set using a confusion matrix.\n",
    "3.   Calculate a range of performance metrics on the test set (Accuracy, Balanced Accuracy, True Positive Rate, True Negative Rate, and False Alarm Rate). Note that the positive class is '1'.\n",
    "\n"
   ]
  },
  {
   "cell_type": "markdown",
   "metadata": {
    "id": "tfzNBNkJm3YD"
   },
   "source": [
    "### 1) Plot the evolution of accuracy relative to the epoch for both the training and validation sets.\n",
    "\n",
    "The plot provides insights into:\n",
    "* *Model training progress:* how well the modell is learning over time\n",
    "* *Overfitting/Underfitting:* whether the model is overfitting to the training data or underfitting both training and validation\n",
    "* *Convergence:* whether further training does not significantly improve the model's performance."
   ]
  },
  {
   "cell_type": "code",
   "execution_count": 37,
   "metadata": {
    "colab": {
     "base_uri": "https://localhost:8080/",
     "height": 455
    },
    "id": "nZCaCXbOm3YD",
    "outputId": "337ba9f3-649d-450d-e7a6-2e543c0194f6"
   },
   "outputs": [
    {
     "data": {
      "image/png": "[encoded data removed]",
      "text/plain": [
       "<Figure size 640x480 with 1 Axes>"
      ]
     },
     "metadata": {},
     "output_type": "display_data"
    }
   ],
   "source": [
    "# Plot the training history\n",
    "plt.plot(cnn_AR.history[\"accuracy\"], label=\"accuracy\")  # Plot the accuracy of the model for each epoch on the training data\n",
    "plt.plot(cnn_AR.history[\"val_accuracy\"], label=\"val_accuracy\")  # Plot the accuracy of the model for each epoch on the validation data\n",
    "plt.xlabel(\"Epoch\")  # Label the x-axis\n",
    "plt.ylabel(\"Accuracy\")  # Label the y-axis\n",
    "plt.ylim([0, 1])  # Set the limits of the y-axis\n",
    "plt.legend(loc=\"lower right\")  # Place a legend on the lower right side of the plot\n",
    "plt.show()  # Display the plot"
   ]
  },
  {
   "cell_type": "markdown",
   "metadata": {
    "id": "YFXYLqoKm3YE"
   },
   "source": [
    "We infer from the Accuracy versus Epoch plot the following:\n",
    "\n",
    "\n",
    "*   *Model Training Progress:* The training accuracy (blue line) shows a steady increase over epochs, indicating that the model is learning and improving its performance on the training data.\n",
    "*   *Overfitting/Underfitting:* The validation accuracy (orange line) also increases but begins to plateau or decrease after 13 epochs, while the training accuracy is still increasing. This indicates that the model might be starting to overfit to the training data, especially after around 13 epochs.\n",
    "*   *Convergence:* The training accuracy continues to increase and does not show clear signs of converging within the 20 epochs. The validation accuracy, however, seems to fluctuate without a consistent upward trend after a certain point, suggesting that further training might not significantly improve performance on the validation set and could potentially lead to some overfitting. This variability (or fluctuation) could be due to several factors, including the model's sensitivity to the specific validation data or its hyperparameters\n"
   ]
  },
  {
   "cell_type": "markdown",
   "metadata": {
    "id": "sqw84Ezom3YE"
   },
   "source": [
    "### 2) Visualise the model's performance on the test set using a confusion matrix."
   ]
  },
  {
   "cell_type": "code",
   "execution_count": 38,
   "metadata": {
    "colab": {
     "base_uri": "https://localhost:8080/",
     "height": 670
    },
    "id": "dQJFWEkQm3YE",
    "outputId": "7d793549-9231-4026-bedc-a22f533cae27"
   },
   "outputs": [
    {
     "name": "stdout",
     "output_type": "stream",
     "text": [
      "11/11 [==============================] - 0s 17ms/step\n"
     ]
    },
    {
     "data": {
      "image/png": "[encoded data removed]",
      "text/plain": [
       "<Figure size 800x800 with 2 Axes>"
      ]
     },
     "metadata": {},
     "output_type": "display_data"
    }
   ],
   "source": [
    "# %% Predict the labels for the test set\n",
    "y_pred = model.predict(X_test)\n",
    "\n",
    "# Convert the predicted probabilities to class labels (0 or 1)\n",
    "y_pred_classes = np.round(y_pred).astype(int).reshape(-1)\n",
    "\n",
    "# Calculate the confusion matrix using the true labels and the predicted labels\n",
    "cm = confusion_matrix(y_test, y_pred_classes)\n",
    "\n",
    "\n",
    "# Create a new figure and axes for the plot\n",
    "fig, ax = plt.subplots(figsize=(8, 8))\n",
    "\n",
    "# Display the confusion matrix as an image in the axes\n",
    "cax = ax.matshow(cm, cmap=\"Blues\")\n",
    "\n",
    "# Add a color bar to the plot\n",
    "plt.colorbar(cax)\n",
    "\n",
    "# Set tick positions and labels for the x-axis and y-axis\n",
    "ax.set_xticks([0, 1])\n",
    "ax.set_xticklabels([\"No AR\", \"AR\"])\n",
    "ax.set_yticks([0, 1])\n",
    "ax.set_yticklabels([\"No AR\", \"AR\"])\n",
    "\n",
    "# Add the confusion matrix values as text in the center of the cells\n",
    "for (i, j), value in np.ndenumerate(cm):\n",
    "    ax.text(j, i, f\"{value}\", ha=\"center\", va=\"center\", color=\"black\")\n",
    "\n",
    "# Set the labels for the x-axis and y-axis\n",
    "plt.ylabel(\"Actual\")\n",
    "plt.xlabel(\"Predicted\")\n",
    "\n",
    "# Set the title for the plot\n",
    "plt.title(\"Confusion Matrix\")\n",
    "\n",
    "# Display the plot\n",
    "plt.show()"
   ]
  },
  {
   "cell_type": "markdown",
   "metadata": {
    "id": "qEBVAXwam3YF"
   },
   "source": [
    "3) Calculate performance metrics on the test set"
   ]
  },
  {
   "cell_type": "code",
   "execution_count": 39,
   "metadata": {
    "colab": {
     "base_uri": "https://localhost:8080/"
    },
    "id": "lVINcgn7m3YF",
    "outputId": "8f3770cf-a35a-4f6f-f024-1660bb80e75c"
   },
   "outputs": [
    {
     "name": "stdout",
     "output_type": "stream",
     "text": [
      "Accuracy: 0.7536\n",
      "Balanced Accuracy: 0.6746\n",
      "True Positive Rate (TPR): 0.5441\n",
      "True Negative Rate (TNR): 0.8051\n",
      "False Alarm Rate (FAR): 0.1949\n"
     ]
    }
   ],
   "source": [
    "# Calculate metrics\n",
    "accuracy = accuracy_score(y_test, y_pred_classes)\n",
    "balanced_acc = balanced_accuracy_score(y_test, y_pred_classes)\n",
    "\n",
    "# Calculate confusion matrix values\n",
    "tn, fp, fn, tp = cm.ravel()\n",
    "\n",
    "# Calculate additional rates\n",
    "tpr = tp / (tp + fn)  # True Positive Rate\n",
    "tnr = tn / (tn + fp)  # True Negative Rate\n",
    "far = fp / (fp + tn)  # False Alarm Rate = 1 - True Negative Rate\n",
    "\n",
    "# Print the metrics\n",
    "print(f\"Accuracy: {accuracy:.4f}\")\n",
    "print(f\"Balanced Accuracy: {balanced_acc:.4f}\")\n",
    "print(f\"True Positive Rate (TPR): {tpr:.4f}\")\n",
    "print(f\"True Negative Rate (TNR): {tnr:.4f}\")\n",
    "print(f\"False Alarm Rate (FAR): {far:.4f}\")\n",
    "\n",
    "\n"
   ]
  },
  {
   "cell_type": "markdown",
   "metadata": {
    "id": "wYeGFmJPm3YF"
   },
   "source": [
    "## Further Steps\n",
    "\n",
    "There's always room for improvement. Here are some suggested steps to enhance the model's performance:\n",
    "\n",
    "- **Hyperparameter Tuning**: Experimenting with different learning rates, batch sizes, or epochs can provide improvements. Tools like Keras Tuner or Hyperopt can automate this process by searching through a range of values to find the most effective settings.\n",
    "- **Try Different Architectures**: While the current model uses a relatively simple architecture, exploring more complex or different architectures could yield better results. Consider architectures like ResNet, Inception, or custom architectures that might capture more complex patterns in the data.\n",
    "- **Implement Dropout and Regularization**: If signs of overfitting become more pronounced with additional training, implementing regularization techniques such as dropout or L2 regularization might help.\n",
    "\n",
    "---\n"
   ]
  },
  {
   "cell_type": "markdown",
   "metadata": {
    "id": "GyfntckI-qX_"
   },
   "source": [
    "**Authors**\n",
    "\n",
    "\n",
    "*   **Maher Mesto**, AI Academic\n",
    "    \n",
    "    *School of Computer Science and Engineering, UNSW Sydney*\n",
    "    \n",
    "    m.mesto@unsw.edu.au\n",
    "\n",
    "*   **Sanaa Hobeichi**, Postdoctoral Researcher in Climate & AI\n",
    "\n",
    "    *Centre of Excellence for Climate Extremes & Climate Change Research Centre, UNSW Sydney*\n",
    "    \n",
    "    s.hobeichi@unsw.edu.au\n",
    "\n",
    "*   **Samuel Green**, Computational Modelling Specialist\n",
    "\n",
    "    *Centre of Excellence for Climate Extremes & Climate Change Research Centre, UNSW Sydney*\n",
    "\n",
    "    sam.green@unsw.edu.au\n"
   ]
  }
 ],
 "metadata": {
  "colab": {
   "provenance": []
  },
  "kernelspec": {
   "display_name": "Python [conda env:analysis-gpu2]",
   "language": "python",
   "name": "conda-env-analysis-gpu2-py"
  },
  "language_info": {
   "codemirror_mode": {
    "name": "ipython",
    "version": 3
   },
   "file_extension": ".py",
   "mimetype": "text/x-python",
   "name": "python",
   "nbconvert_exporter": "python",
   "pygments_lexer": "ipython3",
   "version": "3.10.14"
  }
 },
 "nbformat": 4,
 "nbformat_minor": 4
}
